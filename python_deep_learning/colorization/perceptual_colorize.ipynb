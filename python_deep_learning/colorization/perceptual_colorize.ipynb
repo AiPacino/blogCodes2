{
 "cells": [
  {
   "cell_type": "code",
   "execution_count": 7,
   "metadata": {},
   "outputs": [],
   "source": [
    "import torch\n",
    "import torch.autograd as autograd\n",
    "import torch.nn as nn\n",
    "import torch.optim as optim"
   ]
  },
  {
   "cell_type": "code",
   "execution_count": 10,
   "metadata": {},
   "outputs": [],
   "source": [
    "class conv_block(nn.Module):\n",
    "    def __init__(self, in_size, out_size, kernal = 3, stride = 1):\n",
    "        super(conv_block, self).__init__()\n",
    "        \n",
    "        padding = (kernal-1)//2\n",
    "        self._conv_pri = nn.Sequential(\n",
    "            nn.Conv2d(in_size, out_size, kernal, stride, padding),\n",
    "            nn.BatchNorm2d(out_size),\n",
    "            nn.Relu(True)\n",
    "        )\n",
    "        \n",
    "    def forward(self, x):\n",
    "        out = self._conv_pri(x)\n",
    "        return out\n",
    "    \n",
    "class res_block(nn.Module):\n",
    "    def __init__(self, in_size, out_size, kernal = 3, stride = 1):\n",
    "        super(conv_block, self).__init__()\n",
    "        \n",
    "        padding = (kernal-1)//2\n",
    "        self._conv1_pri = conv_block(in_size, out_size, kernal, stride, padding)\n",
    "        self._conv2_pri = conv_block(out_size, out_size, kernal, stride, padding)\n",
    "        self._relu_pri = nn.Relu()\n",
    "        \n",
    "    def forward(self, x):\n",
    "        out = self._conv1_pri(x)\n",
    "        out = self._conv2_pri(out)        \n",
    "        out = out + x\n",
    "        return out\n",
    "\n",
    "class colorization_net(nn.Module):\n",
    "    def __init__(self):\n",
    "        super(colorization_net, self).__init__()\n",
    "        \n",
    "        self._conv1_pri = conv_block(1, 64, 9)\n",
    "        self._res1_pri = res_block(64, 64)\n",
    "        self._res2_pri = res_block(64, 64)\n",
    "        self._res3_pri = res_block(64, 64)\n",
    "        self._res4_pri = res_block(64, 64)\n",
    "        self._conv2_pri = nn.Sequential(\n",
    "            nn.Conv2d(64, 2, 9, 1, (9-1)//2 ),\n",
    "            nn.Tanh()\n",
    "        )\n",
    "        \n",
    "    def forward(self, x):\n",
    "        out = self._conv1_pri(x)\n",
    "        out = self._res1_pri(out)\n",
    "        out = self._res2_pri(out)\n",
    "        out = self._res3_pri(out)\n",
    "        out = self._res4_pri(out)\n",
    "        out = self.conv2_pri(out)\n",
    "        out = (out + 1) * 127.5\n",
    "        \n",
    "        return out;"
   ]
  },
  {
   "cell_type": "code",
   "execution_count": null,
   "metadata": {
    "collapsed": true
   },
   "outputs": [],
   "source": []
  }
 ],
 "metadata": {
  "kernelspec": {
   "display_name": "Python 3",
   "language": "python",
   "name": "python3"
  },
  "language_info": {
   "codemirror_mode": {
    "name": "ipython",
    "version": 3
   },
   "file_extension": ".py",
   "mimetype": "text/x-python",
   "name": "python",
   "nbconvert_exporter": "python",
   "pygments_lexer": "ipython3",
   "version": "3.5.2"
  }
 },
 "nbformat": 4,
 "nbformat_minor": 2
}
