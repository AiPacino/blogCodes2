{
 "cells": [
  {
   "cell_type": "code",
   "execution_count": 1,
   "metadata": {
    "collapsed": true
   },
   "outputs": [],
   "source": [
    "%matplotlib inline\n",
    "\n",
    "import bcolz\n",
    "import cv2\n",
    "import glob\n",
    "import matplotlib.pyplot as plt\n",
    "import numpy as np\n",
    "import random\n",
    "import threading\n",
    "\n",
    "from concurrent.futures import ThreadPoolExecutor\n",
    "from tqdm import tqdm"
   ]
  },
  {
   "cell_type": "code",
   "execution_count": 6,
   "metadata": {},
   "outputs": [
    {
     "name": "stdout",
     "output_type": "stream",
     "text": [
      "(1261174, 72, 72, 3)\n",
      "<class 'numpy.ndarray'>\n"
     ]
    }
   ],
   "source": [
    "target_size = 72\n",
    "arr_target = bcolz.carray(np.empty((0, target_size, target_size, 1), 'float32'), \n",
    "                          chunklen=16, mode='w', rootdir='image_net_full_opencv_gray_{}.bc'.format(target_size))\n",
    "\n",
    "arr_source = bcolz.open('/home/ramsus/Qt/computer_vision_dataset/super_res/image_net_full_72.bc')\n",
    "print(arr_source.shape)\n",
    "print(type(arr_source[0]))    "
   ]
  },
  {
   "cell_type": "code",
   "execution_count": 19,
   "metadata": {
    "collapsed": true
   },
   "outputs": [],
   "source": [
    "#img = cv2.imread('img/alice.png')\n",
    "#print(img.shape)\n",
    "\n",
    "#img = cv2.cvtColor(arr_source[0], cv2.COLOR_BGR2GRAY)\n",
    "#cv2.imshow('hoho', img.astype('uint8'))\n",
    "#cv2.waitKey()\n",
    "#plt.figure()\n",
    "#plt.imshow(img.astype('uint8'))"
   ]
  },
  {
   "cell_type": "code",
   "execution_count": 7,
   "metadata": {
    "collapsed": true
   },
   "outputs": [],
   "source": [
    "def to_gray():\n",
    "    for i in tqdm(range(len(arr_source))):    \n",
    "        img = cv2.cvtColor(arr_source[i], cv2.COLOR_RGB2GRAY)    \n",
    "        img = np.expand_dims(img, 2)    \n",
    "        arr_target.append(img)\n",
    "    \n",
    "    arr_target.flush()\n",
    "    \n",
    "def to_lab_l():    \n",
    "    for i in tqdm(range(len(arr_source))):    \n",
    "        img = cv2.cvtColor(arr_source[i], cv2.COLOR_RGB2LAB)\n",
    "        img = np.expand_dims(img[:,:,0], 2)\n",
    "        arr_target.append(img)\n",
    "    \n",
    "    arr_target.flush()"
   ]
  },
  {
   "cell_type": "code",
   "execution_count": 5,
   "metadata": {},
   "outputs": [
    {
     "name": "stderr",
     "output_type": "stream",
     "text": [
      "100%|██████████| 1261174/1261174 [11:46<00:00, 1785.53it/s]\n"
     ]
    }
   ],
   "source": [
    "to_lab_l()"
   ]
  },
  {
   "cell_type": "code",
   "execution_count": 8,
   "metadata": {},
   "outputs": [
    {
     "name": "stderr",
     "output_type": "stream",
     "text": [
      "100%|██████████| 1261174/1261174 [15:08<00:00, 1388.42it/s]\n"
     ]
    }
   ],
   "source": [
    "to_gray()"
   ]
  },
  {
   "cell_type": "code",
   "execution_count": null,
   "metadata": {
    "collapsed": true
   },
   "outputs": [],
   "source": [
    "arr_l = bcolz.open('image_net_full_opencv_lumi_72.bc')\n",
    "print(arr_l.shape)\n",
    "\n",
    "cv2.imshow('kk', arr_l[0].astype('uint8'))\n",
    "cv2.waitKey()"
   ]
  }
 ],
 "metadata": {
  "kernelspec": {
   "display_name": "Python 3",
   "language": "python",
   "name": "python3"
  },
  "language_info": {
   "codemirror_mode": {
    "name": "ipython",
    "version": 3
   },
   "file_extension": ".py",
   "mimetype": "text/x-python",
   "name": "python",
   "nbconvert_exporter": "python",
   "pygments_lexer": "ipython3",
   "version": "3.5.2"
  }
 },
 "nbformat": 4,
 "nbformat_minor": 2
}
